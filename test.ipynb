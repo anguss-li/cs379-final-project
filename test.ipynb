{
 "cells": [
  {
   "cell_type": "code",
   "execution_count": 1,
   "metadata": {},
   "outputs": [],
   "source": [
    "import pandas as pd\n",
    "import pyreadstat"
   ]
  },
  {
   "cell_type": "code",
   "execution_count": 2,
   "metadata": {},
   "outputs": [],
   "source": [
    "df, meta = pyreadstat.read_dta(\"replication_files_linke/DataJCRJune12.dta\")"
   ]
  },
  {
   "cell_type": "code",
   "execution_count": 5,
   "metadata": {},
   "outputs": [
    {
     "name": "stdout",
     "output_type": "stream",
     "text": [
      "['EA_CODE', 'RESPONDENT_ID', 'COUNTY', 'DISTRICT', 'TOWN_VILLAGE', 'VERSION_x', 'Q1', 'Q2', 'Q3', 'Q5', 'Q6_1', 'Q11', 'Q15', 'Q32', 'Q33', 'Q41', 'Q44', 'Q89', 'IQ6', 'IQ8GENDER', 'IQ9ETHNICITY', 'loc_rules', 'trad_rules', 'more_loc_rules', 'more_trad_rules', 'T', 'age', 'gender', 'employed_q3', 'formal_education_q5', 'pastoral_q6', 'low_ses_q15', 'freq_drought_worse_q41', 'sev_drought_worse_q44', 'RepDrt', 'RepDrtBoth', 'included_q11', 'attacked_1yr', 'eth_match', 'gender_match', 'loc_rules_bi', 'trad_rules_bi', 'more_loc_rules_bi', 'more_trad_rules_bi', 'useM1', 'useM2', 'useM3', 'useM4', 'weather_lied', 'inst_lied', 'VERSION_y', 'newQ74A', 'newQ74B', 'newQ75A', 'newQ75B', 'control_combx', 'control_comb_avgx', 'vio_combx', 'vio_comb_avgx', 'vio_support', 'long', 'lat', 'ID', 'meanVCI_2004_2013', 'meanVCI_2004_2008', 'meanVCI_2009_2013', 'meanVCI_2004_2006', 'meanVCI_2007_2009', 'meanVCI_2010_2012', 'meanVCI_2011_2013', 'meanVCI_2000_2000', 'meanVCI_2001_2001', 'meanVCI_2002_2002', 'meanVCI_2003_2003', 'meanVCI_2004_2004', 'meanVCI_2005_2005', 'meanVCI_2006_2006', 'meanVCI_2007_2007', 'meanVCI_2008_2008', 'meanVCI_2009_2009', 'meanVCI_2010_2010', 'meanVCI_2011_2011', 'meanVCI_2012_2012', 'meanVCI_2013_2013', 'GridID_x', 'meanSPI3_2003_2012', 'meanSPI3_2004_2012', 'meanSPI3_2004_2008_x', 'meanSPI3_2003_2007', 'meanSPI3_2008_2012', 'meanSPI3_2004_2006_x', 'meanSPI3_2007_2009_x', 'meanSPI3_2010_2012_x', 'meanSPI3_2000_2000_x', 'meanSPI3_2001_2001_x', 'meanSPI3_2002_2002_x', 'meanSPI3_2003_2003_x', 'meanSPI3_2004_2004_x', 'meanSPI3_2005_2005_x', 'meanSPI3_2006_2006_x', 'meanSPI3_2007_2007_x', 'meanSPI3_2008_2008_x', 'meanSPI3_2009_2009_x', 'meanSPI3_2010_2010_x', 'meanSPI3_2011_2011_x', 'meanSPI3_2012_2012_x', 'GridID_y', 'meanTI3_2003_2012', 'meanTI3_2004_2012', 'meanTI3_2004_2008', 'meanTI3_2003_2007', 'meanTI3_2008_2012', 'meanTI3_2004_2006', 'meanTI3_2007_2009', 'meanTI3_2010_2012', 'meanTI3_2000_2000', 'meanTI3_2001_2001', 'meanTI3_2002_2002', 'meanTI3_2003_2003', 'meanTI3_2004_2004', 'meanTI3_2005_2005', 'meanTI3_2006_2006', 'meanTI3_2007_2007', 'meanTI3_2008_2008', 'meanTI3_2009_2009', 'meanTI3_2010_2010', 'meanTI3_2011_2011', 'meanTI3_2012_2012', 'meanSPI3_2004_2013', 'meanSPI3_2004_2008_y', 'meanSPI3_2009_2013', 'meanSPI3_2004_2006_y', 'meanSPI3_2007_2009_y', 'meanSPI3_2010_2012_y', 'meanSPI3_2011_2013', 'meanSPI3_2000_2000_y', 'meanSPI3_2001_2001_y', 'meanSPI3_2002_2002_y', 'meanSPI3_2003_2003_y', 'meanSPI3_2004_2004_y', 'meanSPI3_2005_2005_y', 'meanSPI3_2006_2006_y', 'meanSPI3_2007_2007_y', 'meanSPI3_2008_2008_y', 'meanSPI3_2009_2009_y', 'meanSPI3_2010_2010_y', 'meanSPI3_2011_2011_y', 'meanSPI3_2012_2012_y', 'meanSPI3_2013_2013', 'VCImean2013_07_2014_06', 'SPI3mean2013_07_2014_06', 'EAsSPI3var', 'DataVCI', 'DataTAM', 'DataTI3', 'DataSPI3', 'SPI3Below1st', 'SPI3Below2nd', 'TAMBelow1st', 'TAMBelow2nd', 'Var_low', 'Var_verylow', 'SumPre1_50k', 'SumPre1_25k', 'SumPre2_50k', 'SumPre2_25k', 'SumPre5_50k', 'SumPre5_25k', 'SumPost_50k', 'SumPost_25k', 'SumPost1_50k', 'SumPost1_25k']\n",
      "['EA_CODE', 'RESPONDENT_ID', 'COUNTY', 'DISTRICT', 'TOWN_VILLAGE', 'VERSION.x', 'Q1', 'Q2', 'Q3', 'Q5', 'Q6_1', 'Q11', 'Q15', 'Q32', 'Q33', 'Q41', 'Q44', 'Q89', 'IQ6', 'IQ8GENDER', 'IQ9ETHNICITY', 'loc_rules', 'trad_rules', 'more_loc_rules', 'more_trad_rules', 'T', 'age', 'gender', 'employed_q3', 'formal_education_q5', 'pastoral_q6', 'low_ses_q15', 'freq_drought_worse_q41', 'sev_drought_worse_q44', 'RepDrt', 'RepDrtBoth', 'included_q11', 'attacked_1yr', 'eth_match', 'gender_match', 'loc_rules_bi', 'trad_rules_bi', 'more_loc_rules_bi', 'more_trad_rules_bi', 'useM1', 'useM2', 'useM3', 'useM4', 'weather_lied', 'inst_lied', 'VERSION.y', 'newQ74A', 'newQ74B', 'newQ75A', 'newQ75B', 'control_combx', 'control_comb_avgx', 'vio_combx', 'vio_comb_avgx', 'vio_support', 'long', 'lat', 'ID', 'meanVCI.2004_2013', 'meanVCI.2004_2008', 'meanVCI.2009_2013', 'meanVCI.2004_2006', 'meanVCI.2007_2009', 'meanVCI.2010_2012', 'meanVCI.2011_2013', 'meanVCI.2000_2000', 'meanVCI.2001_2001', 'meanVCI.2002_2002', 'meanVCI.2003_2003', 'meanVCI.2004_2004', 'meanVCI.2005_2005', 'meanVCI.2006_2006', 'meanVCI.2007_2007', 'meanVCI.2008_2008', 'meanVCI.2009_2009', 'meanVCI.2010_2010', 'meanVCI.2011_2011', 'meanVCI.2012_2012', 'meanVCI.2013_2013', 'GridID.x', 'meanSPI3.2003_2012', 'meanSPI3.2004_2012', 'meanSPI3.2004_2008.x', 'meanSPI3.2003_2007', 'meanSPI3.2008_2012', 'meanSPI3.2004_2006.x', 'meanSPI3.2007_2009.x', 'meanSPI3.2010_2012.x', 'meanSPI3.2000_2000.x', 'meanSPI3.2001_2001.x', 'meanSPI3.2002_2002.x', 'meanSPI3.2003_2003.x', 'meanSPI3.2004_2004.x', 'meanSPI3.2005_2005.x', 'meanSPI3.2006_2006.x', 'meanSPI3.2007_2007.x', 'meanSPI3.2008_2008.x', 'meanSPI3.2009_2009.x', 'meanSPI3.2010_2010.x', 'meanSPI3.2011_2011.x', 'meanSPI3.2012_2012.x', 'GridID.y', 'meanTI3.2003_2012', 'meanTI3.2004_2012', 'meanTI3.2004_2008', 'meanTI3.2003_2007', 'meanTI3.2008_2012', 'meanTI3.2004_2006', 'meanTI3.2007_2009', 'meanTI3.2010_2012', 'meanTI3.2000_2000', 'meanTI3.2001_2001', 'meanTI3.2002_2002', 'meanTI3.2003_2003', 'meanTI3.2004_2004', 'meanTI3.2005_2005', 'meanTI3.2006_2006', 'meanTI3.2007_2007', 'meanTI3.2008_2008', 'meanTI3.2009_2009', 'meanTI3.2010_2010', 'meanTI3.2011_2011', 'meanTI3.2012_2012', 'meanSPI3.2004_2013', 'meanSPI3.2004_2008.y', 'meanSPI3.2009_2013', 'meanSPI3.2004_2006.y', 'meanSPI3.2007_2009.y', 'meanSPI3.2010_2012.y', 'meanSPI3.2011_2013', 'meanSPI3.2000_2000.y', 'meanSPI3.2001_2001.y', 'meanSPI3.2002_2002.y', 'meanSPI3.2003_2003.y', 'meanSPI3.2004_2004.y', 'meanSPI3.2005_2005.y', 'meanSPI3.2006_2006.y', 'meanSPI3.2007_2007.y', 'meanSPI3.2008_2008.y', 'meanSPI3.2009_2009.y', 'meanSPI3.2010_2010.y', 'meanSPI3.2011_2011.y', 'meanSPI3.2012_2012.y', 'meanSPI3.2013_2013', 'VCImean2013.07_2014.06', 'SPI3mean2013.07_2014.06', 'EAsSPI3var', 'DataVCI', 'DataTAM', 'DataTI3', 'DataSPI3', 'SPI3Below1st', 'SPI3Below2nd', 'TAMBelow1st', 'TAMBelow2nd', 'Var.low', 'Var.verylow', 'SumPre1_50k', 'SumPre1_25k', 'SumPre2_50k', 'SumPre2_25k', 'SumPre5_50k', 'SumPre5_25k', 'SumPost_50k', 'SumPost_25k', 'SumPost1_50k', 'SumPost1_25k']\n",
      "{'EA_CODE': 'EA_CODE', 'RESPONDENT_ID': 'RESPONDENT_ID', 'COUNTY': 'COUNTY', 'DISTRICT': 'DISTRICT', 'TOWN_VILLAGE': 'TOWN_VILLAGE', 'VERSION_x': 'VERSION.x', 'Q1': 'Q1', 'Q2': 'Q2', 'Q3': 'Q3', 'Q5': 'Q5', 'Q6_1': 'Q6_1', 'Q11': 'Q11', 'Q15': 'Q15', 'Q32': 'Q32', 'Q33': 'Q33', 'Q41': 'Q41', 'Q44': 'Q44', 'Q89': 'Q89', 'IQ6': 'IQ6', 'IQ8GENDER': 'IQ8GENDER', 'IQ9ETHNICITY': 'IQ9ETHNICITY', 'loc_rules': 'loc_rules', 'trad_rules': 'trad_rules', 'more_loc_rules': 'more_loc_rules', 'more_trad_rules': 'more_trad_rules', 'T': 'T', 'age': 'age', 'gender': 'gender', 'employed_q3': 'employed_q3', 'formal_education_q5': 'formal_education_q5', 'pastoral_q6': 'pastoral_q6', 'low_ses_q15': 'low_ses_q15', 'freq_drought_worse_q41': 'freq_drought_worse_q41', 'sev_drought_worse_q44': 'sev_drought_worse_q44', 'RepDrt': 'RepDrt', 'RepDrtBoth': 'RepDrtBoth', 'included_q11': 'included_q11', 'attacked_1yr': 'attacked_1yr', 'eth_match': 'eth_match', 'gender_match': 'gender_match', 'loc_rules_bi': 'loc_rules_bi', 'trad_rules_bi': 'trad_rules_bi', 'more_loc_rules_bi': 'more_loc_rules_bi', 'more_trad_rules_bi': 'more_trad_rules_bi', 'useM1': 'useM1', 'useM2': 'useM2', 'useM3': 'useM3', 'useM4': 'useM4', 'weather_lied': 'weather_lied', 'inst_lied': 'inst_lied', 'VERSION_y': 'VERSION.y', 'newQ74A': 'newQ74A', 'newQ74B': 'newQ74B', 'newQ75A': 'newQ75A', 'newQ75B': 'newQ75B', 'control_combx': 'control_combx', 'control_comb_avgx': 'control_comb_avgx', 'vio_combx': 'vio_combx', 'vio_comb_avgx': 'vio_comb_avgx', 'vio_support': 'vio_support', 'long': 'long', 'lat': 'lat', 'ID': 'ID', 'meanVCI_2004_2013': 'meanVCI.2004_2013', 'meanVCI_2004_2008': 'meanVCI.2004_2008', 'meanVCI_2009_2013': 'meanVCI.2009_2013', 'meanVCI_2004_2006': 'meanVCI.2004_2006', 'meanVCI_2007_2009': 'meanVCI.2007_2009', 'meanVCI_2010_2012': 'meanVCI.2010_2012', 'meanVCI_2011_2013': 'meanVCI.2011_2013', 'meanVCI_2000_2000': 'meanVCI.2000_2000', 'meanVCI_2001_2001': 'meanVCI.2001_2001', 'meanVCI_2002_2002': 'meanVCI.2002_2002', 'meanVCI_2003_2003': 'meanVCI.2003_2003', 'meanVCI_2004_2004': 'meanVCI.2004_2004', 'meanVCI_2005_2005': 'meanVCI.2005_2005', 'meanVCI_2006_2006': 'meanVCI.2006_2006', 'meanVCI_2007_2007': 'meanVCI.2007_2007', 'meanVCI_2008_2008': 'meanVCI.2008_2008', 'meanVCI_2009_2009': 'meanVCI.2009_2009', 'meanVCI_2010_2010': 'meanVCI.2010_2010', 'meanVCI_2011_2011': 'meanVCI.2011_2011', 'meanVCI_2012_2012': 'meanVCI.2012_2012', 'meanVCI_2013_2013': 'meanVCI.2013_2013', 'GridID_x': 'GridID.x', 'meanSPI3_2003_2012': 'meanSPI3.2003_2012', 'meanSPI3_2004_2012': 'meanSPI3.2004_2012', 'meanSPI3_2004_2008_x': 'meanSPI3.2004_2008.x', 'meanSPI3_2003_2007': 'meanSPI3.2003_2007', 'meanSPI3_2008_2012': 'meanSPI3.2008_2012', 'meanSPI3_2004_2006_x': 'meanSPI3.2004_2006.x', 'meanSPI3_2007_2009_x': 'meanSPI3.2007_2009.x', 'meanSPI3_2010_2012_x': 'meanSPI3.2010_2012.x', 'meanSPI3_2000_2000_x': 'meanSPI3.2000_2000.x', 'meanSPI3_2001_2001_x': 'meanSPI3.2001_2001.x', 'meanSPI3_2002_2002_x': 'meanSPI3.2002_2002.x', 'meanSPI3_2003_2003_x': 'meanSPI3.2003_2003.x', 'meanSPI3_2004_2004_x': 'meanSPI3.2004_2004.x', 'meanSPI3_2005_2005_x': 'meanSPI3.2005_2005.x', 'meanSPI3_2006_2006_x': 'meanSPI3.2006_2006.x', 'meanSPI3_2007_2007_x': 'meanSPI3.2007_2007.x', 'meanSPI3_2008_2008_x': 'meanSPI3.2008_2008.x', 'meanSPI3_2009_2009_x': 'meanSPI3.2009_2009.x', 'meanSPI3_2010_2010_x': 'meanSPI3.2010_2010.x', 'meanSPI3_2011_2011_x': 'meanSPI3.2011_2011.x', 'meanSPI3_2012_2012_x': 'meanSPI3.2012_2012.x', 'GridID_y': 'GridID.y', 'meanTI3_2003_2012': 'meanTI3.2003_2012', 'meanTI3_2004_2012': 'meanTI3.2004_2012', 'meanTI3_2004_2008': 'meanTI3.2004_2008', 'meanTI3_2003_2007': 'meanTI3.2003_2007', 'meanTI3_2008_2012': 'meanTI3.2008_2012', 'meanTI3_2004_2006': 'meanTI3.2004_2006', 'meanTI3_2007_2009': 'meanTI3.2007_2009', 'meanTI3_2010_2012': 'meanTI3.2010_2012', 'meanTI3_2000_2000': 'meanTI3.2000_2000', 'meanTI3_2001_2001': 'meanTI3.2001_2001', 'meanTI3_2002_2002': 'meanTI3.2002_2002', 'meanTI3_2003_2003': 'meanTI3.2003_2003', 'meanTI3_2004_2004': 'meanTI3.2004_2004', 'meanTI3_2005_2005': 'meanTI3.2005_2005', 'meanTI3_2006_2006': 'meanTI3.2006_2006', 'meanTI3_2007_2007': 'meanTI3.2007_2007', 'meanTI3_2008_2008': 'meanTI3.2008_2008', 'meanTI3_2009_2009': 'meanTI3.2009_2009', 'meanTI3_2010_2010': 'meanTI3.2010_2010', 'meanTI3_2011_2011': 'meanTI3.2011_2011', 'meanTI3_2012_2012': 'meanTI3.2012_2012', 'meanSPI3_2004_2013': 'meanSPI3.2004_2013', 'meanSPI3_2004_2008_y': 'meanSPI3.2004_2008.y', 'meanSPI3_2009_2013': 'meanSPI3.2009_2013', 'meanSPI3_2004_2006_y': 'meanSPI3.2004_2006.y', 'meanSPI3_2007_2009_y': 'meanSPI3.2007_2009.y', 'meanSPI3_2010_2012_y': 'meanSPI3.2010_2012.y', 'meanSPI3_2011_2013': 'meanSPI3.2011_2013', 'meanSPI3_2000_2000_y': 'meanSPI3.2000_2000.y', 'meanSPI3_2001_2001_y': 'meanSPI3.2001_2001.y', 'meanSPI3_2002_2002_y': 'meanSPI3.2002_2002.y', 'meanSPI3_2003_2003_y': 'meanSPI3.2003_2003.y', 'meanSPI3_2004_2004_y': 'meanSPI3.2004_2004.y', 'meanSPI3_2005_2005_y': 'meanSPI3.2005_2005.y', 'meanSPI3_2006_2006_y': 'meanSPI3.2006_2006.y', 'meanSPI3_2007_2007_y': 'meanSPI3.2007_2007.y', 'meanSPI3_2008_2008_y': 'meanSPI3.2008_2008.y', 'meanSPI3_2009_2009_y': 'meanSPI3.2009_2009.y', 'meanSPI3_2010_2010_y': 'meanSPI3.2010_2010.y', 'meanSPI3_2011_2011_y': 'meanSPI3.2011_2011.y', 'meanSPI3_2012_2012_y': 'meanSPI3.2012_2012.y', 'meanSPI3_2013_2013': 'meanSPI3.2013_2013', 'VCImean2013_07_2014_06': 'VCImean2013.07_2014.06', 'SPI3mean2013_07_2014_06': 'SPI3mean2013.07_2014.06', 'EAsSPI3var': 'EAsSPI3var', 'DataVCI': 'DataVCI', 'DataTAM': 'DataTAM', 'DataTI3': 'DataTI3', 'DataSPI3': 'DataSPI3', 'SPI3Below1st': 'SPI3Below1st', 'SPI3Below2nd': 'SPI3Below2nd', 'TAMBelow1st': 'TAMBelow1st', 'TAMBelow2nd': 'TAMBelow2nd', 'Var_low': 'Var.low', 'Var_verylow': 'Var.verylow', 'SumPre1_50k': 'SumPre1_50k', 'SumPre1_25k': 'SumPre1_25k', 'SumPre2_50k': 'SumPre2_50k', 'SumPre2_25k': 'SumPre2_25k', 'SumPre5_50k': 'SumPre5_50k', 'SumPre5_25k': 'SumPre5_25k', 'SumPost_50k': 'SumPost_50k', 'SumPost_25k': 'SumPost_25k', 'SumPost1_50k': 'SumPost1_50k', 'SumPost1_25k': 'SumPost1_25k'}\n",
      "1346\n",
      "172\n",
      "Written by R.\n",
      "None\n"
     ]
    }
   ],
   "source": [
    "print(meta.column_names)\n",
    "print(meta.column_labels)\n",
    "print(meta.column_names_to_labels)\n",
    "print(meta.number_rows)\n",
    "print(meta.number_columns)\n",
    "print(meta.file_label)\n",
    "print(meta.file_encoding)"
   ]
  },
  {
   "cell_type": "code",
   "execution_count": 4,
   "metadata": {},
   "outputs": [],
   "source": [
    "df.to_csv(\"pytetrad/PROJECT_data.csv\", na_rep=\"*\", index=False)"
   ]
  }
 ],
 "metadata": {
  "kernelspec": {
   "display_name": "base",
   "language": "python",
   "name": "python3"
  },
  "language_info": {
   "codemirror_mode": {
    "name": "ipython",
    "version": 3
   },
   "file_extension": ".py",
   "mimetype": "text/x-python",
   "name": "python",
   "nbconvert_exporter": "python",
   "pygments_lexer": "ipython3",
   "version": "3.8.16"
  }
 },
 "nbformat": 4,
 "nbformat_minor": 2
}
